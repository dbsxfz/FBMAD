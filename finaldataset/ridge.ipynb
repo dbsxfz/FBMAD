{
 "cells": [
  {
   "cell_type": "code",
   "execution_count": 1,
   "metadata": {},
   "outputs": [],
   "source": [
    "from secml.adv.attacks.poisoning import CAttackPoisoningLogisticRegression\n",
    "from secml.ml.classifiers import CClassifierLogistic\n",
    "from secml.ml.features.normalization import CNormalizerMinMax\n",
    "from secml.data import CDataset\n",
    "from secml.ml.peval.metrics import CMetricAccuracy\n",
    "import numpy as np\n",
    "import pandas as pd\n",
    "from sklearn.model_selection import train_test_split\n",
    "from secml.ml.classifiers import CClassifierRidge\n",
    "from secml.adv.attacks.poisoning import CAttackPoisoningRidge\n"
   ]
  },
  {
   "cell_type": "code",
   "execution_count": 2,
   "metadata": {},
   "outputs": [],
   "source": [
    "data = pd.read_csv(\"darknet_data.csv\").values\n",
    "datax = data[:, 1:]\n",
    "datay = data[:, 0]\n",
    "random_state = 2\n",
    "x_train, x_test, y_train, y_test = train_test_split(\n",
    "    datax, datay, test_size=250, train_size=1000, random_state=random_state)\n",
    "x_val, x_test, y_val, y_test = train_test_split(\n",
    "    x_test, y_test, test_size=125, train_size=125, random_state=random_state)\n"
   ]
  },
  {
   "cell_type": "code",
   "execution_count": 4,
   "metadata": {},
   "outputs": [],
   "source": [
    "training_data = CDataset(x_train, y_train)\n",
    "validation_data = CDataset(x_val, y_val)\n",
    "test_data = CDataset(x_test,y_test)\n",
    "metric = CMetricAccuracy()\n",
    "clf=CClassifierRidge(max_iter=100)"
   ]
  },
  {
   "cell_type": "code",
   "execution_count": 5,
   "metadata": {},
   "outputs": [
    {
     "name": "stdout",
     "output_type": "stream",
     "text": [
      "Training of classifier complete!\n"
     ]
    }
   ],
   "source": [
    "clf.fit(training_data.X, training_data.Y)\n",
    "print(\"Training of classifier complete!\")\n",
    "# Compute predictions on a test set\n",
    "y_pred = clf.predict(test_data.X)\n",
    "\n",
    "# Bounds of the attack space. Can be set to `None` for unbounded\n",
    "lb, ub = validation_data.X.min(), validation_data.X.max()\n",
    "# Number of poisoning points to generate\n",
    "n_poisoning_points = 500\n",
    "\n",
    "solver_params = {\n",
    "    'eta': 0.05,\n",
    "    'eta_min': 0.05,\n",
    "    'eta_max': None,\n",
    "    'max_iter': 100,\n",
    "    'eps': 1e-6\n",
    "}\n"
   ]
  },
  {
   "cell_type": "code",
   "execution_count": 6,
   "metadata": {},
   "outputs": [],
   "source": [
    "pois_attack = CAttackPoisoningRidge(classifier=clf,\n",
    "                                    training_data=training_data,\n",
    "                                    val=validation_data,\n",
    "                                    lb=0, ub=1,\n",
    "                                    solver_params=solver_params,\n",
    "                                    random_seed=random_state,\n",
    "                                    init_type='random')\n",
    "\n",
    "pois_attack.n_points = n_poisoning_points\n"
   ]
  },
  {
   "cell_type": "code",
   "execution_count": 7,
   "metadata": {},
   "outputs": [
    {
     "name": "stdout",
     "output_type": "stream",
     "text": [
      "Attack started...\n",
      "Attack complete!\n"
     ]
    }
   ],
   "source": [
    "print(\"Attack started...\")\n",
    "pois_y_pred, pois_scores, pois_ds, f_opt = pois_attack.run(\n",
    "    test_data.X, test_data.Y)\n",
    "print(\"Attack complete!\")"
   ]
  },
  {
   "cell_type": "code",
   "execution_count": 8,
   "metadata": {},
   "outputs": [
    {
     "name": "stdout",
     "output_type": "stream",
     "text": [
      "Original accuracy on test set: 82.40%\n",
      "Accuracy after non adaptive attack on test set: 70.40%\n"
     ]
    }
   ],
   "source": [
    "acc = metric.performance_score(y_true=test_data.Y, y_pred=y_pred)\n",
    "# Evaluate the accuracy after the poisoning attack\n",
    "pois_acc = metric.performance_score(y_true=test_data.Y, y_pred=pois_y_pred)\n",
    "\n",
    "print(\"Original accuracy on test set: {:.2%}\".format(acc))\n",
    "print(\n",
    "    \"Accuracy after non adaptive attack on test set: {:.2%}\".format(pois_acc))\n"
   ]
  },
  {
   "cell_type": "code",
   "execution_count": 14,
   "metadata": {},
   "outputs": [],
   "source": [
    "pd.DataFrame(pois_ds.X).to_csv(\"rx_new.csv\",index=False)\n",
    "temp=pd.read_csv(\"rx_new.csv\").values\n",
    "temp=temp.reshape(-1,76)\n",
    "pd.DataFrame(temp).to_csv(\"rx_new.csv\",index=False)\n",
    "pd.DataFrame(pois_ds.Y).to_csv(\"ry_new.csv\",index=False)"
   ]
  }
 ],
 "metadata": {
  "kernelspec": {
   "display_name": "Python 3.9.13",
   "language": "python",
   "name": "python3"
  },
  "language_info": {
   "codemirror_mode": {
    "name": "ipython",
    "version": 3
   },
   "file_extension": ".py",
   "mimetype": "text/x-python",
   "name": "python",
   "nbconvert_exporter": "python",
   "pygments_lexer": "ipython3",
   "version": "3.9.15"
  },
  "orig_nbformat": 4,
  "vscode": {
   "interpreter": {
    "hash": "a8ee666bf688402e8fc44f270af8c6d212febca3b3303ed36a5a8763f0d8be43"
   }
  }
 },
 "nbformat": 4,
 "nbformat_minor": 2
}
